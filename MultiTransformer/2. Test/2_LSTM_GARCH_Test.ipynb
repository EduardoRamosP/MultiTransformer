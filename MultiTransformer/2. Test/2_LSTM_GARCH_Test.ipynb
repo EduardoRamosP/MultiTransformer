{
 "cells": [
  {
   "cell_type": "markdown",
   "metadata": {},
   "source": [
    "### Source notebook is loaded\n",
    "\n",
    "All the libraries and formulas needed for running the LSTM-GARCH model are loaded. Please install all the libraries before running the code."
   ]
  },
  {
   "cell_type": "code",
   "execution_count": 1,
   "metadata": {},
   "outputs": [],
   "source": [
    "%run Source/2_LSTM_GARCH.ipynb"
   ]
  },
  {
   "cell_type": "markdown",
   "metadata": {},
   "source": [
    "### LSTM-GARH model\n",
    "\n",
    "Model run for obtaining the test error of the LSTM-GARCH model with the optimum dropout level obtained with the train set. The forecasts and VaR values of the different models are saved in a csv file."
   ]
  },
  {
   "cell_type": "code",
   "execution_count": 6,
   "metadata": {
    "scrolled": true
   },
   "outputs": [],
   "source": [
    "#Index of end dates, database for validation and dataframe to collect the results are created. Model variables are defined.\n",
    "Start='2016-01-09'; End='2021-01-08'; IndexEndDays=yf.download(\"^GSPC\",start=Start,  end=End, progress=False).index\n",
    "Lag=1; LagSD=5; Timestep=10; Dropout=0.15; LearningRate=0.01; Epochs=5000; Alpha=0.005; DF=3.28\n",
    "DataValidation = DatabaseGeneration(yf.download(\"^GSPC\",start='2000-01-01', end=date.today()+timedelta(days=1), progress=False), Lag, LagSD)\n",
    "ResultsCollection=pd.DataFrame({'Date_Forecast': [], 'Forecast_LSTM_ARCH': [],'Forecast_GARCH':[],'Forecast_GJR_GARCH':[], 'Forecast_TARCH':[],'Forecast_EGARCH':[],'Forecast_AVGARCH':[],'Forecast_FIGARCH':[],'ReturnForecast':[],'TrueSD':[], 'VaR_LSTM_ARCH':[], 'VaR_GARCH':[], 'VaR_GJR_GARCH':[], 'VaR_TARCH':[], 'VaR_EGARCH':[], 'VaR_AVGARCH':[], 'VaR_FIGARCH':[]})\n",
    "#Loop for generating the results\n",
    "for i in tqdm(range(IndexEndDays.shape[0])):\n",
    "    #Database is downloaded from yahoo finance and lag of returns defined\n",
    "    Database=yf.download(\"^GSPC\",start=IndexEndDays[i].date()-timedelta(days=650), end=IndexEndDays[i].date(), progress=False)\n",
    "    #Database for fitting the models is generated\n",
    "    Data = DatabaseGeneration (Database, Lag, LagSD)\n",
    "    #Fitting of LSTM-ARCH model, ARCH models and forecasting of the next volatility value\n",
    "    LSTM_ARCH_Model = LSTM_ARCH_Fit (Data, Lag, LagSD, Timestep, Dropout, LearningRate, Epochs, Alpha, DF)\n",
    "    #VaR of ARCH models is computed\n",
    "    VaR_ARCH_Models=VaR_AR_Total(Alpha, LSTM_ARCH_Model['GARCH_fit'], LSTM_ARCH_Model['GJR_GARCH_fit'], LSTM_ARCH_Model['TARCH_fit'], LSTM_ARCH_Model['EGARCH_fit'], LSTM_ARCH_Model['AVGARCH_fit'], LSTM_ARCH_Model['FIGARCH_fit'],LSTM_ARCH_Model['GARCH'], LSTM_ARCH_Model['GJR_GARCH'], LSTM_ARCH_Model['TARCH'], LSTM_ARCH_Model['EGARCH'], LSTM_ARCH_Model['AVGARCH'], LSTM_ARCH_Model['FIGARCH'])\n",
    "    #Results are collected\n",
    "    IterResults={'Date_Forecast': LSTM_ARCH_Model['Date_Forecast'].date(), 'Forecast_LSTM_ARCH': LSTM_ARCH_Model['Forecast_LSTM_ARCH'],'Forecast_GARCH':LSTM_ARCH_Model['Forecast_GARCH']/100,'Forecast_GJR_GARCH':LSTM_ARCH_Model['Forecast_GJR_GARCH']/100, 'Forecast_TARCH':LSTM_ARCH_Model['Forecast_TARCH']/100,'Forecast_EGARCH':LSTM_ARCH_Model['Forecast_EGARCH']/100,'Forecast_AVGARCH':LSTM_ARCH_Model['Forecast_AVGARCH']/100,'Forecast_FIGARCH':LSTM_ARCH_Model['Forecast_FIGARCH']/100,'ReturnForecast':LSTM_ARCH_Model['ReturnForecast'],'TrueSD':DataValidation[DataValidation.index==pd.to_datetime(LSTM_ARCH_Model['Date_Forecast'].date())]['TrueSD'][0], 'VaR_LSTM_ARCH': LSTM_ARCH_Model['VaR'], 'VaR_GARCH':VaR_ARCH_Models['VaR_GARCH'][0][0], 'VaR_GJR_GARCH':VaR_ARCH_Models['VaR_GJR_GARCH'][0][0], 'VaR_TARCH':VaR_ARCH_Models['VaR_TARCH'][0][0], 'VaR_EGARCH':VaR_ARCH_Models['VaR_EGARCH'][0][0], 'VaR_AVGARCH':VaR_ARCH_Models['VaR_AVGARCH'][0][0], 'VaR_FIGARCH':VaR_ARCH_Models['VaR_FIGARCH'][0][0]}\n",
    "    ResultsCollection=ResultsCollection.append(IterResults, ignore_index=True)\n",
    "    #Results are saved\n",
    "    ResultsCollection.to_csv('Results/2_LSTM_GARCH.csv',index=False)"
   ]
  }
 ],
 "metadata": {
  "kernelspec": {
   "display_name": "Python 3",
   "language": "python",
   "name": "python3"
  },
  "language_info": {
   "codemirror_mode": {
    "name": "ipython",
    "version": 3
   },
   "file_extension": ".py",
   "mimetype": "text/x-python",
   "name": "python",
   "nbconvert_exporter": "python",
   "pygments_lexer": "ipython3",
   "version": "3.7.7"
  }
 },
 "nbformat": 4,
 "nbformat_minor": 4
}
